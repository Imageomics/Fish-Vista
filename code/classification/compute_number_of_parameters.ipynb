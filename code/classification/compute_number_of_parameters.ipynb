{
 "cells": [
  {
   "cell_type": "code",
   "execution_count": 5,
   "id": "5886893e-870e-450e-b512-36120c2e6fb0",
   "metadata": {},
   "outputs": [],
   "source": [
    "from models import model\n",
    "from models.model import get_custom_model"
   ]
  },
  {
   "cell_type": "code",
   "execution_count": 8,
   "id": "eca9ebdd-8f4c-4ffd-8f5d-6c87c3ff9a85",
   "metadata": {},
   "outputs": [
    {
     "name": "stdout",
     "output_type": "stream",
     "text": [
      "resnet34 21.499619\n",
      "resnet18 11.391459\n",
      "resnet50 24.366563\n",
      "vit_b_32 87.777443\n",
      "vit_b_16 86.120867\n",
      "vgg19 141.297891\n",
      "swin_b 87.172699\n",
      "inception_v3 25.970795\n",
      "convnext_base 87.995939\n",
      "efficientnet_v2_m 53.395095\n",
      "mobilenet_v3_large 4.738771\n"
     ]
    },
    {
     "name": "stderr",
     "output_type": "stream",
     "text": [
      "/home/ksmehrab/miniconda/envs/data_env/lib/python3.9/site-packages/torch/functional.py:512: UserWarning: torch.meshgrid: in an upcoming release, it will be required to pass the indexing argument. (Triggered internally at /opt/conda/conda-bld/pytorch_1712608883701/work/aten/src/ATen/native/TensorShape.cpp:3587.)\n",
      "  return _VF.meshgrid(tensors, **kwargs)  # type: ignore[attr-defined]\n"
     ]
    },
    {
     "name": "stdout",
     "output_type": "stream",
     "text": [
      "maxvit_t 30.622571\n",
      "resnext50_32x4d 23.838435\n",
      "cvt_13 19.773795\n",
      "mobile_vit_xs 2.094163\n",
      "mobile_vit_v2 4.603788\n",
      "regnet_y 4.087923\n"
     ]
    },
    {
     "name": "stderr",
     "output_type": "stream",
     "text": [
      "Some weights of DeiTForImageClassification were not initialized from the model checkpoint at facebook/deit-small-distilled-patch16-224 and are newly initialized: ['classifier.bias', 'classifier.weight']\n",
      "You should probably TRAIN this model on a down-stream task to be able to use it for predictions and inference.\n"
     ]
    },
    {
     "name": "stdout",
     "output_type": "stream",
     "text": [
      "diet_distilled_s 21.827747\n",
      "pvt_v2 3.517443\n",
      "swinb_22k 87.172699\n"
     ]
    },
    {
     "data": {
      "text/plain": [
       "'\\nresnet34 21.499619\\nresnet18 11.391459\\nresnet50 24.366563\\nvit_b_32 87.777443\\nvit_b_16 87.777443\\nvgg19 141.297891\\nswin_b 87.172699\\ninception_v3 25.970795\\nconvnext_base 87.995939\\nefficientnet_v2_m 53.395095\\nmobilenet_v3_large 4.738771\\nmaxvit_t 30.622571\\nresnext50_32x4d 23.838435\\ncvt_13 Not found\\nmobile_vit_xs Not found\\nmobile_vit_v2 Not found\\nregnet_y Not found\\ndiet_distilled_s Not found\\npvt_v2 Not found\\nswinb_22k Not found\\n'"
      ]
     },
     "execution_count": 8,
     "metadata": {},
     "output_type": "execute_result"
    }
   ],
   "source": [
    "model_names = ['resnet34', 'resnet18', 'resnet50', 'vit_b_32', 'vit_b_16', 'vgg19', 'swin_b', 'inception_v3', 'convnext_base', 'efficientnet_v2_m', 'mobilenet_v3_large', 'maxvit_t', 'resnext50_32x4d', 'cvt_13', 'mobile_vit_xs', 'mobile_vit_v2', 'regnet_y', 'diet_distilled_s', 'pvt_v2', 'swinb_22k']\n",
    "\n",
    "# model_names = ['cvt_13', 'mobile_vit_xs', 'mobile_vit_v2', 'regnet_y', 'diet_distilled_s', 'pvt_v2', 'swinb_22k']\n",
    "\n",
    "def num_params(model):\n",
    "    # Count the number of parameters\n",
    "    return sum(p.numel() for p in model.parameters())\n",
    "\n",
    "for name in model_names:\n",
    "    # breakpoint()\n",
    "    try:\n",
    "        model = get_custom_model(name, num_classes=419, pretrained=True)\n",
    "        print(name, num_params(model) / 1000000)\n",
    "    except:\n",
    "        print(name, 'Not found')\n",
    "\n",
    "\n",
    "\"\"\"\n",
    "resnet34 21.499619\n",
    "resnet18 11.391459\n",
    "resnet50 24.366563\n",
    "vit_b_32 87.777443\n",
    "vit_b_16 87.777443\n",
    "vgg19 141.297891\n",
    "swin_b 87.172699\n",
    "inception_v3 25.970795\n",
    "convnext_base 87.995939\n",
    "efficientnet_v2_m 53.395095\n",
    "mobilenet_v3_large 4.738771\n",
    "maxvit_t 30.622571\n",
    "resnext50_32x4d 23.838435\n",
    "cvt_13 Not found\n",
    "mobile_vit_xs Not found\n",
    "mobile_vit_v2 Not found\n",
    "regnet_y Not found\n",
    "diet_distilled_s Not found\n",
    "pvt_v2 Not found\n",
    "swinb_22k Not found\n",
    "\"\"\""
   ]
  },
  {
   "cell_type": "code",
   "execution_count": null,
   "id": "c82c8d5d-9591-4b09-baa4-a901cb75076c",
   "metadata": {},
   "outputs": [],
   "source": [
    "\"\"\"\n",
    "cvt_13 19.773795\n",
    "mobile_vit_xs 2.094163\n",
    "mobile_vit_v2 4.603788\n",
    "regnet_y 4.087923\n",
    "diet_distilled_s 21.827747\n",
    "pvt_v2 3.517443\n",
    "swinb_22k 87.172699\n",
    "\"\"\""
   ]
  }
 ],
 "metadata": {
  "kernelspec": {
   "display_name": "Python 3 (ipykernel)",
   "language": "python",
   "name": "python3"
  },
  "language_info": {
   "codemirror_mode": {
    "name": "ipython",
    "version": 3
   },
   "file_extension": ".py",
   "mimetype": "text/x-python",
   "name": "python",
   "nbconvert_exporter": "python",
   "pygments_lexer": "ipython3",
   "version": "3.9.18"
  }
 },
 "nbformat": 4,
 "nbformat_minor": 5
}
